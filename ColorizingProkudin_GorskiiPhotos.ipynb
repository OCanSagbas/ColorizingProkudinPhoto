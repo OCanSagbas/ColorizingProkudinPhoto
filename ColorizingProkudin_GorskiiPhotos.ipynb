{
  "nbformat": 4,
  "nbformat_minor": 0,
  "metadata": {
    "colab": {
      "provenance": [],
      "authorship_tag": "ABX9TyMk/Cigx0Dealh04r89Li1g",
      "include_colab_link": true
    },
    "kernelspec": {
      "name": "python3",
      "display_name": "Python 3"
    },
    "language_info": {
      "name": "python"
    }
  },
  "cells": [
    {
      "cell_type": "markdown",
      "metadata": {
        "id": "view-in-github",
        "colab_type": "text"
      },
      "source": [
        "<a href=\"https://colab.research.google.com/github/OCanSagbas/ColorizingProkudinPhoto/blob/main/ColorizingProkudin_GorskiiPhotos.ipynb\" target=\"_parent\"><img src=\"https://colab.research.google.com/assets/colab-badge.svg\" alt=\"Open In Colab\"/></a>"
      ]
    },
    {
      "cell_type": "code",
      "execution_count": null,
      "metadata": {
        "id": "yxc_CQsHoHyn"
      },
      "outputs": [],
      "source": [
        "import cv2\n",
        "import os\n",
        "import numpy as np"
      ]
    },
    {
      "cell_type": "code",
      "source": [
        "def calculatingSSD(img_1, img_2): # Sum of Squared Differences methodu ile görüntüleri birbirine hizalıyoruz.\n",
        "    sum_sd = 0\n",
        "    w, h = img_1.shape  # Görüntülerin genişliği ve yüksekliği\n",
        "    for width in range(w):\n",
        "        for height in range(h):\n",
        "            # Her iki görüntüdeki piksel değerlerini al, karelerini al ve SSD'ye ekle\n",
        "            sum_sd += np.square(int(img_1[width][height]) - int(img_2[width][height]))\n",
        "    return sum_sd"
      ],
      "metadata": {
        "id": "7wbRMWO_oY6E"
      },
      "execution_count": null,
      "outputs": []
    },
    {
      "cell_type": "code",
      "source": [
        "def calculatingminSSD(img_1, img_2):\n",
        "    minsum_sd = calculatingSSD(img_1, img_2)\n",
        "    pixels = 15\n",
        "    x2, y2 = 0,0\n",
        "    for x in range(pixels):\n",
        "        for y in range(pixels):\n",
        "            img_2xrolled = np.roll(img_2, x-pixels, axis=1)\n",
        "            img_2_rolled=np.roll(img_2xrolled,  y-pixels, axis=0)\n",
        "            a = calculatingSSD(img_1, img_2_rolled)\n",
        "            if a <= minsum_sd:\n",
        "                minsum_sd = a\n",
        "                x2 = int(x-pixels)\n",
        "                y2 = int(y-pixels)\n",
        "    image_finalx = np.roll(img_2, x2, axis=1)\n",
        "    image_final = np.roll(image_finalx, y2, axis=0)\n",
        "    return image_final"
      ],
      "metadata": {
        "id": "siCx4Fbv3Ozm"
      },
      "execution_count": null,
      "outputs": []
    },
    {
      "cell_type": "code",
      "source": [
        "data_folder_path = '/content/data/'\n",
        "result_folder_path = '/content/result/'\n",
        "files = os.listdir(data_folder_path)\n",
        "\n",
        "for file in files:\n",
        "    file_path = os.path.join(data_folder_path, file)\n",
        "    result_file_path = os.path.join(result_folder_path, file)\n",
        "    image = cv2.imread(file_path, 0) #gri tonlamalı olarak okunma\n",
        "    height, width = image.shape #dizi boyutlarını içeren bir (tuple)\n",
        "    image_cr = image[10:height-10, 10:width-10] #görsel kırpma\n",
        "    height_cr, width_cr = image_cr.shape #kırpılmış yükseklik genişlik\n",
        "\n",
        "    line1 = int(height_cr/3) #tek dosya 3 görsel arası çizgiler\n",
        "    line2 = 2*int(height_cr/3)\n",
        "\n",
        "    blue = image_cr[0:line1,:]\n",
        "    green = image_cr[line1:line2,:]\n",
        "    red = image_cr[line2:line1+line2,:]\n",
        "    green_resized = cv2.resize(green, (blue.shape[1], blue.shape[0]))\n",
        "    red_resized = cv2.resize(red, (blue.shape[1], blue.shape[0]))\n",
        "\n",
        "    print(blue.size)\n",
        "    print(red_resized.size)\n",
        "    print(green_resized.size)\n",
        "\n",
        "    aligned_green = calculatingminSSD(blue, green_resized)\n",
        "    aligned_red = calculatingminSSD(blue, red_resized)\n",
        "\n",
        "\n",
        "    image_color = cv2.merge([blue, aligned_green, aligned_red])\n",
        "    cv2.imwrite(result_file_path, image_color)\n",
        "\n",
        "    # CTRL+Ö kısayol yorum satırı yapma\n"
      ],
      "metadata": {
        "id": "kcnkpgduXVFi",
        "colab": {
          "base_uri": "https://localhost:8080/"
        },
        "outputId": "4a07966e-566f-4cdc-b702-7313820cbe88"
      },
      "execution_count": null,
      "outputs": [
        {
          "output_type": "stream",
          "name": "stdout",
          "text": [
            "126920\n",
            "126920\n",
            "126920\n",
            "125918\n",
            "125918\n",
            "125918\n",
            "124916\n",
            "124916\n",
            "124916\n",
            "124248\n",
            "124248\n",
            "124248\n",
            "127254\n",
            "127254\n",
            "127254\n",
            "124582\n",
            "124582\n",
            "124582\n",
            "122578\n",
            "122578\n",
            "122578\n",
            "126252\n",
            "126252\n",
            "126252\n",
            "126920\n",
            "126920\n",
            "126920\n",
            "126252\n",
            "126252\n",
            "126252\n",
            "125584\n",
            "125584\n",
            "125584\n",
            "125584\n",
            "125584\n",
            "125584\n",
            "125918\n",
            "125918\n",
            "125918\n",
            "122578\n",
            "122578\n",
            "122578\n",
            "124916\n",
            "124916\n",
            "124916\n",
            "124916\n",
            "124916\n",
            "124916\n",
            "125918\n",
            "125918\n",
            "125918\n",
            "124248\n",
            "124248\n",
            "124248\n",
            "124916\n",
            "124916\n",
            "124916\n",
            "125250\n",
            "125250\n",
            "125250\n",
            "126920\n",
            "126920\n",
            "126920\n",
            "125250\n",
            "125250\n",
            "125250\n",
            "124916\n",
            "124916\n",
            "124916\n",
            "123914\n",
            "123914\n",
            "123914\n",
            "124916\n",
            "124916\n",
            "124916\n",
            "125584\n",
            "125584\n",
            "125584\n",
            "124582\n",
            "124582\n",
            "124582\n",
            "125250\n",
            "125250\n",
            "125250\n",
            "126252\n",
            "126252\n",
            "126252\n"
          ]
        }
      ]
    },
    {
      "cell_type": "code",
      "source": [
        "from zipfile import ZipFile\n",
        "import os\n",
        "\n",
        "# 'result' klasöründeki dosyaları ZIP arşivine ekleyin\n",
        "result_folder_path = '/content/result/'\n",
        "zip_file_path = '/content/result.zip'\n",
        "\n",
        "with ZipFile(zip_file_path, 'w') as zipf:\n",
        "    for file in os.listdir(result_folder_path):\n",
        "        file_path = os.path.join(result_folder_path, file)\n",
        "        zipf.write(file_path, file)\n",
        "\n",
        "# ZIP arşivini indirin\n",
        "from google.colab import files\n",
        "files.download(zip_file_path)"
      ],
      "metadata": {
        "colab": {
          "base_uri": "https://localhost:8080/",
          "height": 34
        },
        "id": "Uz0sjZayub8S",
        "outputId": "300fc1b2-a92d-4817-f8bd-c9274b23028c"
      },
      "execution_count": null,
      "outputs": [
        {
          "output_type": "display_data",
          "data": {
            "text/plain": [
              "<IPython.core.display.Javascript object>"
            ],
            "application/javascript": [
              "\n",
              "    async function download(id, filename, size) {\n",
              "      if (!google.colab.kernel.accessAllowed) {\n",
              "        return;\n",
              "      }\n",
              "      const div = document.createElement('div');\n",
              "      const label = document.createElement('label');\n",
              "      label.textContent = `Downloading \"${filename}\": `;\n",
              "      div.appendChild(label);\n",
              "      const progress = document.createElement('progress');\n",
              "      progress.max = size;\n",
              "      div.appendChild(progress);\n",
              "      document.body.appendChild(div);\n",
              "\n",
              "      const buffers = [];\n",
              "      let downloaded = 0;\n",
              "\n",
              "      const channel = await google.colab.kernel.comms.open(id);\n",
              "      // Send a message to notify the kernel that we're ready.\n",
              "      channel.send({})\n",
              "\n",
              "      for await (const message of channel.messages) {\n",
              "        // Send a message to notify the kernel that we're ready.\n",
              "        channel.send({})\n",
              "        if (message.buffers) {\n",
              "          for (const buffer of message.buffers) {\n",
              "            buffers.push(buffer);\n",
              "            downloaded += buffer.byteLength;\n",
              "            progress.value = downloaded;\n",
              "          }\n",
              "        }\n",
              "      }\n",
              "      const blob = new Blob(buffers, {type: 'application/binary'});\n",
              "      const a = document.createElement('a');\n",
              "      a.href = window.URL.createObjectURL(blob);\n",
              "      a.download = filename;\n",
              "      div.appendChild(a);\n",
              "      a.click();\n",
              "      div.remove();\n",
              "    }\n",
              "  "
            ]
          },
          "metadata": {}
        },
        {
          "output_type": "display_data",
          "data": {
            "text/plain": [
              "<IPython.core.display.Javascript object>"
            ],
            "application/javascript": [
              "download(\"download_e693831e-a539-4f62-b924-baed68d0b245\", \"result.zip\", 1789037)"
            ]
          },
          "metadata": {}
        }
      ]
    },
    {
      "cell_type": "markdown",
      "source": [
        "# Yeni Bölüm"
      ],
      "metadata": {
        "id": "NKl2-cM8HlaL"
      }
    }
  ]
}